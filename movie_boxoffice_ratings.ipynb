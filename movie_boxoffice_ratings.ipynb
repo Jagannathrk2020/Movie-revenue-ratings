{
 "cells": [
  {
   "cell_type": "markdown",
   "metadata": {},
   "source": [
    "# Movie Aggregator Ratings have No Relationship with Box Office Success\n",
    "\n",
    "\n",
    "by Max Woolf\n",
    "\n",
    "*This notebook is licensed under the MIT License. If you use the code or data visualization designs contained within this notebook, it would be greatly appreciated if proper attribution is given back to this notebook and/or myself. Thanks! :)*"
   ]
  },
  {
   "cell_type": "code",
   "execution_count": 1,
   "metadata": {
    "collapsed": false,
    "scrolled": true
   },
   "outputs": [
    {
     "name": "stderr",
     "output_type": "stream",
     "text": [
      "\n",
      "Attaching package: ‘dplyr’\n",
      "\n",
      "The following objects are masked from ‘package:stats’:\n",
      "\n",
      "    filter, lag\n",
      "\n",
      "The following objects are masked from ‘package:base’:\n",
      "\n",
      "    intersect, setdiff, setequal, union\n",
      "\n",
      "Registering fonts with R\n",
      "\n",
      "Attaching package: ‘scales’\n",
      "\n",
      "The following objects are masked from ‘package:readr’:\n",
      "\n",
      "    col_factor, col_numeric\n",
      "\n"
     ]
    },
    {
     "data": {
      "text/plain": [
       "R version 3.2.2 (2015-08-14)\n",
       "Platform: x86_64-apple-darwin13.4.0 (64-bit)\n",
       "Running under: OS X 10.11.2 (El Capitan)\n",
       "\n",
       "locale:\n",
       "[1] en_US.UTF-8/en_US.UTF-8/en_US.UTF-8/C/en_US.UTF-8/en_US.UTF-8\n",
       "\n",
       "attached base packages:\n",
       "[1] grid      stats     graphics  grDevices utils     datasets  methods  \n",
       "[8] base     \n",
       "\n",
       "other attached packages:\n",
       "[1] stringr_1.0.0      digest_0.6.8       RColorBrewer_1.1-2 scales_0.3.0      \n",
       "[5] extrafont_0.17     ggplot2_2.0.0      dplyr_0.4.3        readr_0.1.1       \n",
       "\n",
       "loaded via a namespace (and not attached):\n",
       " [1] Rcpp_0.12.1      Rttf2pt1_1.3.3   magrittr_1.5     munsell_0.4.2   \n",
       " [5] uuid_0.1-2       colorspace_1.2-6 R6_2.1.1         plyr_1.8.3      \n",
       " [9] tools_3.2.2      parallel_3.2.2   gtable_0.1.2     DBI_0.3.1       \n",
       "[13] extrafontdb_1.0  assertthat_0.1   IRdisplay_0.3    repr_0.4        \n",
       "[17] base64enc_0.1-3  IRkernel_0.5     evaluate_0.8     rzmq_0.7.7      \n",
       "[21] stringi_0.5-5    jsonlite_0.9.17 "
      ]
     },
     "execution_count": 1,
     "metadata": {},
     "output_type": "execute_result"
    }
   ],
   "source": [
    "options(warn = -1)\n",
    "\n",
    "# IMPORTANT: This assumes that all packages in \"Rstart.R\" are installed,\n",
    "# and the fonts \"Source Sans Pro\" and \"Open Sans Condensed Bold\" are installed\n",
    "# via extrafont. If ggplot2 charts fail to render, you may need to change/remove the theme call.\n",
    "\n",
    "source(\"Rstart.R\")\n",
    "\n",
    "sessionInfo()"
   ]
  },
  {
   "cell_type": "markdown",
   "metadata": {},
   "source": [
    "# Process the Data\n",
    "\n",
    "Take the movies data, load in R friendly format, and combine with Rotten Tomatoes data."
   ]
  },
  {
   "cell_type": "code",
   "execution_count": 2,
   "metadata": {
    "collapsed": false
   },
   "outputs": [
    {
     "name": "stdout",
     "output_type": "stream",
     "text": [
      "\r",
      "|================================================================================| 100%  422 MB\n"
     ]
    }
   ],
   "source": [
    "df <- read_delim(\"~/Downloads/omdb1215/omdbMovies.txt\", \"\\t\", col_types=\"iccicccccccidi_c_____\")"
   ]
  },
  {
   "cell_type": "code",
   "execution_count": 3,
   "metadata": {
    "collapsed": false
   },
   "outputs": [
    {
     "name": "stdout",
     "output_type": "stream",
     "text": [
      "Source: local data frame [6 x 15]\n",
      "\n",
      "     ID    imdbID                  Title  Year    Rating Runtime\n",
      "  (int)     (chr)                  (chr) (int)     (chr)   (chr)\n",
      "1     1 tt0000001             Carmencita  1894 NOT RATED   1 min\n",
      "2     2 tt0000002 Le clown et ses chiens  1892                  \n",
      "3     3 tt0000003         Pauvre Pierrot  1892             4 min\n",
      "4     4 tt0000004            Un bon bock  1892                  \n",
      "5     5 tt0000005       Blacksmith Scene  1893   UNRATED   1 min\n",
      "6     6 tt0000006      Chinese Opium Den  1894             1 min\n",
      "Variables not shown: Genre (chr), Released (chr), Director (chr), Writer (chr),\n",
      "  Cast (chr), Metacritic (int), imdbRating (dbl), imdbVotes (int), Plot (chr)\n",
      "[1] 1109885\n"
     ]
    }
   ],
   "source": [
    "print(df %>% head())\n",
    "print(nrow(df))"
   ]
  },
  {
   "cell_type": "code",
   "execution_count": 4,
   "metadata": {
    "collapsed": true
   },
   "outputs": [],
   "source": [
    "df_tomatoes <- read_delim(\"~/Downloads/omdb1215/tomatoes.txt\",  \"\\t\", col_types=\"i_diiiicidi_cc_c\")"
   ]
  },
  {
   "cell_type": "code",
   "execution_count": 5,
   "metadata": {
    "collapsed": false
   },
   "outputs": [
    {
     "name": "stdout",
     "output_type": "stream",
     "text": [
      "Source: local data frame [6 x 13]\n",
      "\n",
      "     ID Rating Meter Reviews Fresh Rotten Consensus userMeter userRating\n",
      "  (int)  (dbl) (int)   (int) (int)  (int)     (chr)     (int)      (dbl)\n",
      "1     4     NA    NA      NA    NA     NA                 100        2.8\n",
      "2     5     NA    NA      NA    NA     NA                  32        3.0\n",
      "3    10     NA    NA      NA    NA     NA                  NA         NA\n",
      "4    75     NA    NA      NA    NA     NA                  NA         NA\n",
      "5    89     NA    NA      NA    NA     NA                  NA         NA\n",
      "6   174     NA    NA      NA    NA     NA                  NA         NA\n",
      "Variables not shown: userReviews (int), BoxOffice (chr), Production (chr),\n",
      "  lastUpdated (chr)\n",
      "[1] 98124\n"
     ]
    }
   ],
   "source": [
    "print(df_tomatoes %>% head())\n",
    "print(nrow(df_tomatoes))"
   ]
  },
  {
   "cell_type": "code",
   "execution_count": 6,
   "metadata": {
    "collapsed": true
   },
   "outputs": [],
   "source": [
    "df <- df %>% left_join(df_tomatoes, by=\"ID\")\n",
    "rm(df_tomatoes)"
   ]
  },
  {
   "cell_type": "code",
   "execution_count": 7,
   "metadata": {
    "collapsed": false
   },
   "outputs": [
    {
     "name": "stdout",
     "output_type": "stream",
     "text": [
      "Source: local data frame [6 x 27]\n",
      "\n",
      "     ID    imdbID                  Title  Year  Rating.x Runtime\n",
      "  (int)     (chr)                  (chr) (int)     (chr)   (chr)\n",
      "1     1 tt0000001             Carmencita  1894 NOT RATED   1 min\n",
      "2     2 tt0000002 Le clown et ses chiens  1892                  \n",
      "3     3 tt0000003         Pauvre Pierrot  1892             4 min\n",
      "4     4 tt0000004            Un bon bock  1892                  \n",
      "5     5 tt0000005       Blacksmith Scene  1893   UNRATED   1 min\n",
      "6     6 tt0000006      Chinese Opium Den  1894             1 min\n",
      "Variables not shown: Genre (chr), Released (chr), Director (chr), Writer (chr),\n",
      "  Cast (chr), Metacritic (int), imdbRating (dbl), imdbVotes (int), Plot (chr),\n",
      "  Rating.y (dbl), Meter (int), Reviews (int), Fresh (int), Rotten (int),\n",
      "  Consensus (chr), userMeter (int), userRating (dbl), userReviews (int),\n",
      "  BoxOffice (chr), Production (chr), lastUpdated (chr)\n"
     ]
    }
   ],
   "source": [
    "print(df %>% head())"
   ]
  },
  {
   "cell_type": "markdown",
   "metadata": {},
   "source": [
    "## Tweak Columns to Numeric\n",
    "\n",
    "Both `Runtime` and `BoxOffice` need to be converted to numeric values for aggregation."
   ]
  },
  {
   "cell_type": "code",
   "execution_count": 8,
   "metadata": {
    "collapsed": false
   },
   "outputs": [
    {
     "data": {
      "text/html": [
       "'4'"
      ],
      "text/latex": [
       "'4'"
      ],
      "text/markdown": [
       "'4'"
      ],
      "text/plain": [
       "[1] \"4\""
      ]
     },
     "execution_count": 8,
     "metadata": {},
     "output_type": "execute_result"
    }
   ],
   "source": [
    "parseRuntime <- function(x) {\n",
    "    if (is.na(x) | x==\"\") {return (NA)}\n",
    "    return(strsplit(x, \" \")[[1]][1])\n",
    "}\n",
    "\n",
    "parseRuntime(\"4 min\")"
   ]
  },
  {
   "cell_type": "code",
   "execution_count": 9,
   "metadata": {
    "collapsed": true
   },
   "outputs": [],
   "source": [
    "df <- df %>% mutate(Runtime = as.numeric(sapply(Runtime, parseRuntime)))"
   ]
  },
  {
   "cell_type": "code",
   "execution_count": 10,
   "metadata": {
    "collapsed": false
   },
   "outputs": [
    {
     "name": "stdout",
     "output_type": "stream",
     "text": [
      "Source: local data frame [6 x 1]\n",
      "\n",
      "  Runtime\n",
      "    (dbl)\n",
      "1       1\n",
      "2      NA\n",
      "3       4\n",
      "4      NA\n",
      "5       1\n",
      "6       1\n"
     ]
    }
   ],
   "source": [
    "print(df %>% select(Runtime) %>% head())"
   ]
  },
  {
   "cell_type": "markdown",
   "metadata": {},
   "source": [
    "Parse `BoxOffice` the same way, but it is tricker and needs a look at the data."
   ]
  },
  {
   "cell_type": "code",
   "execution_count": 11,
   "metadata": {
    "collapsed": false
   },
   "outputs": [
    {
     "name": "stdout",
     "output_type": "stream",
     "text": [
      "Source: local data frame [6 x 1]\n",
      "\n",
      "  BoxOffice\n",
      "      (chr)\n",
      "1     $0.3M\n",
      "2    $51.0k\n",
      "3     $0.5M\n",
      "4    $35.3k\n",
      "5     $0.2M\n",
      "6     $1.1M\n"
     ]
    }
   ],
   "source": [
    "print(df %>% select(BoxOffice) %>% filter(BoxOffice!='') %>% head())"
   ]
  },
  {
   "cell_type": "code",
   "execution_count": 12,
   "metadata": {
    "collapsed": false
   },
   "outputs": [
    {
     "data": {
      "text/html": [
       "3e+05"
      ],
      "text/latex": [
       "3e+05"
      ],
      "text/markdown": [
       "3e+05"
      ],
      "text/plain": [
       "[1] 3e+05"
      ]
     },
     "execution_count": 12,
     "metadata": {},
     "output_type": "execute_result"
    },
    {
     "data": {
      "text/html": [
       "51000"
      ],
      "text/latex": [
       "51000"
      ],
      "text/markdown": [
       "51000"
      ],
      "text/plain": [
       "[1] 51000"
      ]
     },
     "execution_count": 12,
     "metadata": {},
     "output_type": "execute_result"
    }
   ],
   "source": [
    "parseBoxOffice <- function(x) {\n",
    "    unit <- 0\n",
    "    if (is.na(x) | x==\"\") {return (NA)}\n",
    "    if (substr(x, nchar(x), nchar(x)) == \"k\") {unit <- 10^3}\n",
    "    else {unit <- 10^6}\n",
    "\n",
    "    number <- as.numeric(substr(x,2,nchar(x)-1))\n",
    "\n",
    "    return(number * unit)\n",
    "}\n",
    "\n",
    "parseBoxOffice(\"$0.3M\")\n",
    "parseBoxOffice(\"$51.0k\")"
   ]
  },
  {
   "cell_type": "code",
   "execution_count": 13,
   "metadata": {
    "collapsed": true
   },
   "outputs": [],
   "source": [
    "df <- df %>% mutate(BoxOffice = as.numeric(sapply(BoxOffice, parseBoxOffice)))"
   ]
  },
  {
   "cell_type": "markdown",
   "metadata": {},
   "source": [
    "Save the processed data for later so that it can be reimported easily!"
   ]
  },
  {
   "cell_type": "code",
   "execution_count": null,
   "metadata": {
    "collapsed": true
   },
   "outputs": [],
   "source": [
    "write.csv(df, \"movies-processed.csv\", row.names=F)"
   ]
  },
  {
   "cell_type": "markdown",
   "metadata": {},
   "source": [
    "# Rating Data Scatterplots\n",
    "\n",
    "Now we can create scatterplots! First, we need to aggregate the data. We start with the Rotten Tomatoes Tomatometer review data:\n",
    "\n",
    "# Rotten Tomatoes Tomatometer"
   ]
  },
  {
   "cell_type": "code",
   "execution_count": 14,
   "metadata": {
    "collapsed": false
   },
   "outputs": [
    {
     "name": "stdout",
     "output_type": "stream",
     "text": [
      "Source: local data frame [6 x 3]\n",
      "\n",
      "                    Title Meter BoxOffice\n",
      "                    (chr) (int)     (dbl)\n",
      "1                  Avatar    83 760500000\n",
      "2          Jurassic World    71 652200000\n",
      "3            The Avengers    92 623300000\n",
      "4         The Dark Knight    94 533300000\n",
      "5 Avengers: Age of Ultron    74 459000000\n",
      "6   The Dark Knight Rises    87 448100000\n",
      "[1] 4863\n",
      "[1] -0.18361\n"
     ]
    }
   ],
   "source": [
    "df_box <- df %>% select(Title, Meter, BoxOffice) %>% \n",
    "                filter(!is.na(Meter), !is.na(BoxOffice)) %>% \n",
    "                arrange(desc(BoxOffice))\n",
    "\n",
    "print(df_box %>% head())\n",
    "print(nrow(df_box))\n",
    "print(cor(df_box$Meter, log10(df_box$BoxOffice)))"
   ]
  },
  {
   "cell_type": "code",
   "execution_count": 15,
   "metadata": {
    "collapsed": true
   },
   "outputs": [],
   "source": [
    "plot <- ggplot(df_box, aes(x=Meter, y=BoxOffice)) +\n",
    "            annotate(geom=\"rect\", xmin=60, xmax=100, ymin=min(df_box$Meter), ymax=Inf, fill=\"#1a1a1a\", alpha=0.1) +\n",
    "            geom_point(alpha=0.2, stroke=0, size=2, color=\"#e74c3c\") +\n",
    "            fte_theme() +\n",
    "            scale_y_log10(breaks=10^(3:9), labels=dollar) +\n",
    "            scale_x_continuous(breaks=seq(0,100, by=10), labels=paste0(seq(0,100, by=10), \"%\"), limits=c(0,100)) +\n",
    "            labs(x=\"Rotten Tomatoes Tomatometer Score\", y=\"Movie Box Office Gross\",\n",
    "                title=\"Scatterplot of Box Office Gross vs. RT Tomatometer\") +\n",
    "            geom_smooth(color=\"#1a1a1a\", method=\"lm\")\n",
    "\n",
    "max_save(plot, \"box-office-rating-1\", \"IMDb and Rotten Tomatoes\")"
   ]
  },
  {
   "cell_type": "markdown",
   "metadata": {},
   "source": [
    "![](box-office-rating-1.png)"
   ]
  },
  {
   "cell_type": "code",
   "execution_count": 16,
   "metadata": {
    "collapsed": false
   },
   "outputs": [],
   "source": [
    "plot <- ggplot(df_box, aes(x=Meter, y=BoxOffice)) +\n",
    "            annotate(geom=\"rect\", xmin=60, xmax=100, ymin=min(df_box$Meter), ymax=Inf, fill=\"#1a1a1a\", alpha=0.1) +\n",
    "            fte_theme() +\n",
    "            scale_y_log10(breaks=10^(3:9), labels=dollar) +\n",
    "            scale_x_continuous(breaks=seq(0,100, by=10), labels=paste0(seq(0,100, by=10), \"%\"), limits=c(0,100)) +\n",
    "            stat_density2d(aes(fill= ..level..), geom=\"polygon\", color=\"#e74c3c\", size=0.2) +\n",
    "            scale_fill_gradient(low=\"#eeeeee\", high=\"#e74c3c\") +\n",
    "            labs(x=\"Rotten Tomatoes Tomatometer Score\", y=\"Movie Box Office Gross\",\n",
    "                title=\"Contour Map of Box Office Gross vs. RT Tomatometer\")\n",
    "\n",
    "max_save(plot, \"box-office-rating-2\", \"IMDb and Rotten Tomatoes\")"
   ]
  },
  {
   "cell_type": "markdown",
   "metadata": {},
   "source": [
    "![](box-office-rating-2.png)"
   ]
  },
  {
   "cell_type": "markdown",
   "metadata": {},
   "source": [
    "# Rotten Tomatoes Audience"
   ]
  },
  {
   "cell_type": "code",
   "execution_count": 17,
   "metadata": {
    "collapsed": false
   },
   "outputs": [
    {
     "name": "stdout",
     "output_type": "stream",
     "text": [
      "Source: local data frame [6 x 3]\n",
      "\n",
      "                    Title userMeter BoxOffice\n",
      "                    (chr)     (int)     (dbl)\n",
      "1                  Avatar        82 760500000\n",
      "2          Jurassic World        80 652200000\n",
      "3            The Avengers        91 623300000\n",
      "4         The Dark Knight        94 533300000\n",
      "5 Avengers: Age of Ultron        85 459000000\n",
      "6   The Dark Knight Rises        90 448100000\n",
      "[1] 5163\n",
      "[1] 0.04952105\n"
     ]
    }
   ],
   "source": [
    "df_box <- df %>% select(Title, userMeter, BoxOffice) %>% \n",
    "                filter(!is.na(userMeter), !is.na(BoxOffice)) %>% \n",
    "                arrange(desc(BoxOffice))\n",
    "\n",
    "print(df_box %>% head())\n",
    "print(nrow(df_box))\n",
    "print(cor(df_box$userMeter, log10(df_box$BoxOffice)))"
   ]
  },
  {
   "cell_type": "code",
   "execution_count": 18,
   "metadata": {
    "collapsed": false
   },
   "outputs": [],
   "source": [
    "plot <- ggplot(df_box, aes(x=userMeter, y=BoxOffice)) +\n",
    "            geom_point(alpha=0.2, stroke=0, size=2, color=\"#27ae60\") +\n",
    "            fte_theme() +\n",
    "            scale_y_log10(breaks=10^(3:9), labels=dollar) +\n",
    "            scale_x_continuous(breaks=seq(0,100, by=10), labels=paste0(seq(0,100, by=10), \"%\"), limits=c(0,100)) +\n",
    "            labs(x=\"Rotten Tomatoes Audience Score\", y=\"Movie Box Office Gross\",\n",
    "                title=\"Scatterplot of Box Office Gross vs. RT Audience\") +\n",
    "            geom_smooth(color=\"#1a1a1a\", method=\"lm\")\n",
    "\n",
    "max_save(plot, \"box-office-rating-3\", \"IMDb and Rotten Tomatoes\")"
   ]
  },
  {
   "cell_type": "markdown",
   "metadata": {},
   "source": [
    "![](box-office-rating-3.png)"
   ]
  },
  {
   "cell_type": "code",
   "execution_count": 19,
   "metadata": {
    "collapsed": true
   },
   "outputs": [],
   "source": [
    "plot <- ggplot(df_box, aes(x=userMeter, y=BoxOffice)) +\n",
    "            fte_theme() +\n",
    "            scale_y_log10(breaks=10^(3:9), labels=dollar) +\n",
    "            scale_x_continuous(breaks=seq(0,100, by=10), labels=paste0(seq(0,100, by=10), \"%\"), limits=c(0,100)) +\n",
    "            stat_density2d(aes(fill= ..level..), geom=\"polygon\", color=\"#27ae60\", size=0.2) +\n",
    "            scale_fill_gradient(low=\"#eeeeee\", high=\"#27ae60\") +\n",
    "            labs(x=\"Rotten Tomatoes Audience Score\", y=\"Movie Box Office Gross\",\n",
    "                title=\"Contour Map of Box Office Gross vs. RT Audience\")\n",
    "\n",
    "max_save(plot, \"box-office-rating-4\", \"IMDb and Rotten Tomatoes\")"
   ]
  },
  {
   "cell_type": "markdown",
   "metadata": {},
   "source": [
    "![](box-office-rating-4.png)"
   ]
  },
  {
   "cell_type": "markdown",
   "metadata": {},
   "source": [
    "# IMDb Rating"
   ]
  },
  {
   "cell_type": "code",
   "execution_count": 20,
   "metadata": {
    "collapsed": false
   },
   "outputs": [
    {
     "name": "stdout",
     "output_type": "stream",
     "text": [
      "Source: local data frame [6 x 3]\n",
      "\n",
      "                    Title imdbRating BoxOffice\n",
      "                    (chr)      (dbl)     (dbl)\n",
      "1                  Avatar        7.9 760500000\n",
      "2          Jurassic World        7.1 652200000\n",
      "3            The Avengers        8.1 623300000\n",
      "4         The Dark Knight        9.0 533300000\n",
      "5 Avengers: Age of Ultron        7.6 459000000\n",
      "6   The Dark Knight Rises        8.5 448100000\n",
      "[1] 5167\n",
      "[1] -0.001493861\n"
     ]
    }
   ],
   "source": [
    "df_box <- df %>% select(Title, imdbRating, BoxOffice) %>% \n",
    "                filter(!is.na(imdbRating), !is.na(BoxOffice)) %>% \n",
    "                arrange(desc(BoxOffice))\n",
    "\n",
    "print(df_box %>% head())\n",
    "print(nrow(df_box))\n",
    "print(cor(df_box$imdbRating, log10(df_box$BoxOffice)))"
   ]
  },
  {
   "cell_type": "code",
   "execution_count": 21,
   "metadata": {
    "collapsed": false
   },
   "outputs": [],
   "source": [
    "plot <- ggplot(df_box, aes(x=imdbRating, y=BoxOffice)) +\n",
    "            geom_point(alpha=0.2, stroke=0, size=2, color=\"#d35400\") +\n",
    "            fte_theme() +\n",
    "            scale_y_log10(breaks=10^(3:9), labels=dollar) +\n",
    "            scale_x_continuous(breaks=1:10, limits=c(0,10)) +\n",
    "            labs(x=\"IMDb User Rating\", y=\"Movie Box Office Gross\",\n",
    "                title=\"Scatterplot of Box Office Gross vs. IMDb User Rating\") +\n",
    "            geom_smooth(color=\"#1a1a1a\", method=\"lm\")\n",
    "\n",
    "max_save(plot, \"box-office-rating-5\", \"IMDb and Rotten Tomatoes\")"
   ]
  },
  {
   "cell_type": "markdown",
   "metadata": {},
   "source": [
    "![](box-office-rating-5.png)"
   ]
  },
  {
   "cell_type": "code",
   "execution_count": 22,
   "metadata": {
    "collapsed": true
   },
   "outputs": [],
   "source": [
    "plot <- ggplot(df_box, aes(x=imdbRating, y=BoxOffice)) +\n",
    "            fte_theme() +\n",
    "            scale_y_log10(breaks=10^(3:9), labels=dollar) +\n",
    "            scale_x_continuous(breaks=1:10, limits=c(0,10)) +\n",
    "            stat_density2d(aes(fill= ..level..), geom=\"polygon\", color=\"#d35400\", size=0.2) +\n",
    "            scale_fill_gradient(low=\"#eeeeee\", high=\"#d35400\") +\n",
    "            labs(x=\"IMDb User Rating\", y=\"Movie Box Office Gross\",\n",
    "                title=\"Contour Map of Box Office Gross vs. IMDb User Rating\")\n",
    "\n",
    "max_save(plot, \"box-office-rating-6\", \"IMDb and Rotten Tomatoes\")"
   ]
  },
  {
   "cell_type": "markdown",
   "metadata": {},
   "source": [
    "![](box-office-rating-6.png)"
   ]
  },
  {
   "cell_type": "markdown",
   "metadata": {},
   "source": [
    "# Metacritic"
   ]
  },
  {
   "cell_type": "code",
   "execution_count": 27,
   "metadata": {
    "collapsed": false
   },
   "outputs": [
    {
     "name": "stdout",
     "output_type": "stream",
     "text": [
      "Source: local data frame [6 x 3]\n",
      "\n",
      "                    Title Metacritic BoxOffice\n",
      "                    (chr)      (int)     (dbl)\n",
      "1                  Avatar         83 760500000\n",
      "2          Jurassic World         59 652200000\n",
      "3            The Avengers         69 623300000\n",
      "4         The Dark Knight         82 533300000\n",
      "5 Avengers: Age of Ultron         66 459000000\n",
      "6   The Dark Knight Rises         78 448100000\n",
      "[1] 4479\n",
      "[1] -0.1312911\n"
     ]
    }
   ],
   "source": [
    "df_box <- df %>% select(Title, Metacritic, BoxOffice) %>% \n",
    "                filter(!is.na(Metacritic), !is.na(BoxOffice)) %>% \n",
    "                arrange(desc(BoxOffice))\n",
    "\n",
    "print(df_box %>% head())\n",
    "print(nrow(df_box))\n",
    "print(cor(df_box$Metacritic, log10(df_box$BoxOffice)))"
   ]
  },
  {
   "cell_type": "code",
   "execution_count": 24,
   "metadata": {
    "collapsed": false
   },
   "outputs": [],
   "source": [
    "plot <- ggplot(df_box, aes(x=Metacritic, y=BoxOffice)) +\n",
    "            geom_point(alpha=0.2, stroke=0, size=2, color=\"#8e44ad\") +\n",
    "            fte_theme() +\n",
    "            scale_y_log10(breaks=10^(3:9), labels=dollar) +\n",
    "            scale_x_continuous(breaks=seq(0,100, by=10)) +\n",
    "            labs(x=\"Metacritic Score\", y=\"Movie Box Office Gross\",\n",
    "                title=\"Scatterplot of Box Office Gross vs. Metacritic\") +\n",
    "            geom_smooth(color=\"#1a1a1a\", method = \"lm\")\n",
    "\n",
    "max_save(plot, \"box-office-rating-7\", \"IMDb and Rotten Tomatoes\")"
   ]
  },
  {
   "cell_type": "markdown",
   "metadata": {},
   "source": [
    "![](box-office-rating-7.png)"
   ]
  },
  {
   "cell_type": "code",
   "execution_count": 30,
   "metadata": {
    "collapsed": true
   },
   "outputs": [],
   "source": [
    "plot <- ggplot(df_box, aes(x=Metacritic, y=BoxOffice)) +\n",
    "            fte_theme() +\n",
    "            scale_y_log10(breaks=10^(3:9), labels=dollar, limits=c(10^3,10^9)) +\n",
    "            scale_x_continuous(breaks=seq(0,100, by=10), limits=c(0,100)) +\n",
    "            stat_density2d(aes(fill= ..level..), geom=\"polygon\", color=\"#8e44ad\", size=0.2) +\n",
    "            scale_fill_gradient(low=\"#eeeeee\", high=\"#8e44ad\") +\n",
    "            labs(x=\"Metacritic Score\", y=\"Movie Box Office Gross\",\n",
    "                title=\"Contour Map of Box Office Gross vs. Metacritic Score\")\n",
    "\n",
    "max_save(plot, \"box-office-rating-8\", \"IMDb and Rotten Tomatoes\")"
   ]
  },
  {
   "cell_type": "markdown",
   "metadata": {},
   "source": [
    "![](box-office-rating-8.png)"
   ]
  },
  {
   "cell_type": "markdown",
   "metadata": {},
   "source": [
    "# The MIT License (MIT)\n",
    "\n",
    "Copyright (c) 2016 Max Woolf\n",
    "\n",
    "Permission is hereby granted, free of charge, to any person obtaining a copy of this software and associated documentation files (the \"Software\"), to deal in the Software without restriction, including without limitation the rights to use, copy, modify, merge, publish, distribute, sublicense, and/or sell copies of the Software, and to permit persons to whom the Software is furnished to do so, subject to the following conditions:\n",
    "\n",
    "The above copyright notice and this permission notice shall be included in all copies or substantial portions of the Software.\n",
    "\n",
    "THE SOFTWARE IS PROVIDED \"AS IS\", WITHOUT WARRANTY OF ANY KIND, EXPRESS OR IMPLIED, INCLUDING BUT NOT LIMITED TO THE WARRANTIES OF MERCHANTABILITY, FITNESS FOR A PARTICULAR PURPOSE AND NONINFRINGEMENT. IN NO EVENT SHALL THE AUTHORS OR COPYRIGHT HOLDERS BE LIABLE FOR ANY CLAIM, DAMAGES OR OTHER LIABILITY, WHETHER IN AN ACTION OF CONTRACT, TORT OR OTHERWISE, ARISING FROM, OUT OF OR IN CONNECTION WITH THE SOFTWARE OR THE USE OR OTHER DEALINGS IN THE SOFTWARE."
   ]
  }
 ],
 "metadata": {
  "kernelspec": {
   "display_name": "R",
   "language": "R",
   "name": "ir"
  },
  "language_info": {
   "codemirror_mode": "r",
   "file_extension": ".r",
   "mimetype": "text/x-r-source",
   "name": "R",
   "pygments_lexer": "r",
   "version": "3.2.2"
  }
 },
 "nbformat": 4,
 "nbformat_minor": 0
}
